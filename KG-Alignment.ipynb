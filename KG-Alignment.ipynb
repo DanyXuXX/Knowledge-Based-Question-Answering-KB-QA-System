{
 "cells": [
  {
   "cell_type": "markdown",
   "metadata": {
    "pycharm": {
     "name": "#%% md\n"
    }
   },
   "source": [
    "## data processing"
   ]
  },
  {
   "cell_type": "code",
   "execution_count": 44,
   "metadata": {
    "pycharm": {
     "name": "#%%\n"
    }
   },
   "outputs": [],
   "source": [
    "import re\n",
    "import pandas as pd\n",
    "import numpy as np\n",
    "import json\n",
    "import Levenshtein"
   ]
  },
  {
   "cell_type": "code",
   "execution_count": 57,
   "metadata": {
    "pycharm": {
     "name": "#%%\n"
    }
   },
   "outputs": [
    {
     "data": {
      "text/plain": [
       "{'马德里竞技': {'全名': 'Club Atlético de Madrid',\n",
       "  '绰号': 'Los Colchoneros（床单军团） Los Rojiblancos（红白军团）',\n",
       "  '成立': '1903年4月26日，\\u200b118年前\\u200b（1903-04-26）[1]',\n",
       "  '城市': '西班牙马德里',\n",
       "  '主场': '万达大都会球场',\n",
       "  '容纳人数': '68,456[2]',\n",
       "  '拥有者': '米盖尔·安赫尔·希尔·马林（英语：Miguel Ángel Gil Marín）(51%) 伊丹·奥佛（英语：Idan Ofer） (30%)恩里克·塞雷佐（英语：Enrique Cerezo） (19%) [3][4][5]',\n",
       "  '主席': '恩里克·塞雷佐（英语：Enrique Cerezo）',\n",
       "  '主教练': '迭戈·西蒙尼',\n",
       "  '联赛': '西班牙足球甲级联赛',\n",
       "  '2020–21': '西甲，第 1 位'},\n",
       " '皇家马德里': {'全名': 'Real Madrid Club de Fútbol皇家马德里足球俱乐部',\n",
       "  '简称': '皇马/银河舰队',\n",
       "  '绰号': 'Los Blancos (白色的)Los Merengues (蛋白甜饼)Los Vikings (维京人)Los Casa Blanca (白宫)Madridistas (马德里人)',\n",
       "  '成立': '1902年3月6日',\n",
       "  '城市': '西班牙，马德里',\n",
       "  '主场': '圣地亚哥·伯纳乌球场',\n",
       "  '容纳人数': '85,454人',\n",
       "  '主席': '弗洛伦蒂诺·佩雷斯',\n",
       "  '主教练': '卡洛·安切洛蒂',\n",
       "  '联赛': '西班牙足球甲级联赛',\n",
       "  '2020–21': '西甲，第 2位',\n",
       "  '球衣供应': '阿迪达斯',\n",
       "  '球衣广告': 'Fly Emirates'},\n",
       " '巴塞罗那': {'全名': 'Futbol Club Barcelona巴塞罗那足球俱乐部',\n",
       "  '简称': '巴萨（Barça）',\n",
       "  '绰号': '地上最强红蓝军团（Blaugrana），the Giants',\n",
       "  '成立': '1899年11月29日，\\u200b122年前\\u200b（1899-11-29）',\n",
       "  '城市': '西班牙加泰罗尼亚巴塞罗那',\n",
       "  '主场': '诺坎普体育场',\n",
       "  '容纳人数': '99,354人',\n",
       "  '主席': '胡安·拉波尔塔',\n",
       "  '主教练': '哈维',\n",
       "  '联赛': '西班牙足球甲级联赛',\n",
       "  '2020–21': '西甲，第 3 位',\n",
       "  '球衣供应': '耐克',\n",
       "  '球衣广告': '乐天株式会社'},\n",
       " '塞维利亚': {'全名': 'Sevilla Fútbol Club',\n",
       "  '绰号': 'Sevillistas, Nervionenses, Rojiblancos',\n",
       "  '成立': '1890年1月25日，\\u200b132年前\\u200b（1890-01-25）[1]as Sevilla Foot-ball Club',\n",
       "  '城市': '塞维利亚，安达鲁西亚，西班牙',\n",
       "  '主场': '拉蒙·桑切斯·皮斯胡安球场',\n",
       "  '容纳人数': '42,500[2]',\n",
       "  '主席': 'José Castro Carmona',\n",
       "  '主教练': '尤伦·洛佩特吉',\n",
       "  '联赛': '西班牙足球甲级联赛',\n",
       "  '2020–21': '西甲，第 4 位'},\n",
       " '皇家社会': {'全名': 'Real Sociedad de Fútbol',\n",
       "  '绰号': 'Los Txuri-Urdin',\n",
       "  '成立': '1909年[1]',\n",
       "  '城市': '西班牙圣塞瓦斯蒂安',\n",
       "  '主场': '阿诺埃塔球场',\n",
       "  '容纳人数': '32,000人',\n",
       "  '主席': 'Jokin Aperribay',\n",
       "  '总教练': 'Imanol Alguacil（英语：Imanol Alguacil）',\n",
       "  '联赛': '西班牙足球甲级联赛',\n",
       "  '2020–21': '西甲，第 5 位',\n",
       "  '球衣供应': 'macron'},\n",
       " '贝蒂斯': {'全名': 'Real Betis Balompié, S.A.D.',\n",
       "  '绰号': '贝蒂斯',\n",
       "  '成立': '1907年',\n",
       "  '城市': '塞维利亚，安达鲁西亚，西班牙',\n",
       "  '主场': '贝尼托·比拉马林球场',\n",
       "  '容纳人数': '52,500 [1]',\n",
       "  '主席': 'Juan Carlos Ollero',\n",
       "  '主教练': '曼努埃尔·佩莱格里尼',\n",
       "  '联赛': '西班牙足球甲级联赛',\n",
       "  '2020–21': '西甲，第 6 位'},\n",
       " '比利亚雷亚尔': {'全名': 'Vila-real Club de Futbol',\n",
       "  '绰号': '黄色潜艇[1]（El submarino amarillo）',\n",
       "  '成立': '1923年3月10日，\\u200b98年前\\u200b（1923-03-10）',\n",
       "  '城市': '比利亚雷亚尔',\n",
       "  '主场': '陶瓷球场 (原名情歌球场)',\n",
       "  '容纳人数': '24,890人',\n",
       "  '主席': 'Fernando Roig（英语：Fernando Roig）',\n",
       "  '主教练': '乌拿·艾玛利',\n",
       "  '联赛': '西班牙足球甲级联赛',\n",
       "  '2020–21': '西甲，第 7 位'},\n",
       " '塞尔塔': {},\n",
       " '格拉纳达': {'全名': 'Granada Club de Fútbol, S.A.D.',\n",
       "  '绰号': 'El Graná、Rojiblancos horizontales、 El 5001、Filipinos',\n",
       "  '成立': '1931年4月14日，\\u200b90年前\\u200b（1931-04-14）',\n",
       "  '城市': '西班牙格拉纳达',\n",
       "  '主场': '新洛斯卡门斯球场（Los Cármenes）',\n",
       "  '容纳人数': '22,094',\n",
       "  '拥有者': 'Daxian 2009 SL',\n",
       "  '主席': '易仁涛',\n",
       "  '主教练': '罗伯特·莫雷诺（英语：Robert Moreno）',\n",
       "  '联赛': '西班牙足球甲级联赛',\n",
       "  '2020–21': '西甲，第 9 位',\n",
       "  '球衣供应': '耐克',\n",
       "  '球衣广告': 'WinaMax博彩'},\n",
       " '毕尔巴鄂': {'全名': 'Athletic Club',\n",
       "  '绰号': '红白间条(Los Liones)，巴斯克雄狮',\n",
       "  '成立': '1898年',\n",
       "  '城市': '毕尔巴鄂',\n",
       "  '主场': '圣马梅斯球场',\n",
       "  '容纳人数': '53,289 [1]',\n",
       "  '主席': 'Josu Urrutia',\n",
       "  '主教练': '马塞利诺（英语：Marcelino García Toral）',\n",
       "  '联赛': '西班牙足球甲级联赛',\n",
       "  '2020–21': '西甲，第 10 位'},\n",
       " '奥萨苏纳': {'全名': 'Club Atlético Osasuna',\n",
       "  '成立': '1920年10月24日，\\u200b101年前\\u200b（1920-10-24）[1][2]',\n",
       "  '城市': '纳瓦拉，潘普洛纳',\n",
       "  '主场': 'El Sadar',\n",
       "  '容纳人数': '18,761',\n",
       "  '主席': 'Luis Sabalza',\n",
       "  '主教练': 'Jagoba Arrasate',\n",
       "  '联赛': '西班牙足球甲级联赛',\n",
       "  '2020–21': '西甲，第 11 位',\n",
       "  '球衣供应': 'hummel'},\n",
       " '加的斯': {'全名': 'Cádiz Club de Fútbol, S.A.D.',\n",
       "  '绰号': 'Gaditanos',\n",
       "  '成立': '1910年',\n",
       "  '城市': '西班牙加的斯',\n",
       "  '主场': '拉蒙·德卡兰萨球场',\n",
       "  '容纳人数': '25,033',\n",
       "  '主席': 'Manuel Vizcaíno',\n",
       "  '主教练': '塞尔希奥·冈萨雷斯',\n",
       "  '联赛': '西班牙足球甲级联赛',\n",
       "  '2020–21': '西甲，第 12 位'},\n",
       " '瓦伦西亚': {'全名': 'València Club de Futbol',\n",
       "  '绰号': 'Los Ches, 蝙蝠军团，冠军杀手',\n",
       "  '成立': '1919年3月18日',\n",
       "  '城市': '瓦伦西亚',\n",
       "  '主场': '梅斯塔利亚球场 (1923年-现在)',\n",
       "  '容纳人数': '55,000[1][2]',\n",
       "  '拥有者': '林荣福',\n",
       "  '主席': 'Anil Murthy',\n",
       "  '主教练': '何塞·博尔达拉斯（英语：José Bordalás）',\n",
       "  '联赛': '西班牙足球甲级联赛',\n",
       "  '2020–21': '西甲，第 13 位'},\n",
       " '莱万特': {'绰号': '青蛙（Granotas）',\n",
       "  '成立': '1909年9月6日，\\u200b112年前\\u200b（1909-09-06）',\n",
       "  '城市': '西班牙，巴伦西亚',\n",
       "  '主场': '巴伦西亚城市球场',\n",
       "  '容纳人数': '25,354',\n",
       "  '主席': 'Quico Catalán',\n",
       "  '主教练': '查维亚·彭利拿（英语：Javier Pereira (footballer)）',\n",
       "  '联赛': '西班牙足球甲级联赛',\n",
       "  '2020–21': '西甲，第 14 位'},\n",
       " '赫塔菲': {'全名': 'Getafe Club de Fútbol',\n",
       "  '成立': '1983年7月8日，\\u200b38年前\\u200b（1983-07-08）[1]',\n",
       "  '城市': '马德里自治区赫塔费',\n",
       "  '主场': '阿方索佩雷斯球场（Coliseum Alfonso Pérez）',\n",
       "  '容纳人数': '17,393',\n",
       "  '主席': 'Ángel Torres Sánchez',\n",
       "  '主教练': '基克·桑切斯·弗洛雷斯',\n",
       "  '联赛': '西班牙足球甲级联赛',\n",
       "  '2020–21': '西甲，第 15 位'},\n",
       " '阿拉维斯': {'全名': 'Deportivo Alavés, S.A.D.',\n",
       "  '绰号': '-',\n",
       "  '成立': '1921年',\n",
       "  '城市': '维多利亚，巴斯克自治区',\n",
       "  '主场': '门迪索罗萨球场',\n",
       "  '容纳人数': '19,900人',\n",
       "  '主席': 'Alfonso Fernández de Trocóniz',\n",
       "  '主教练': '何塞·路易斯·门迪利巴',\n",
       "  '联赛': '西班牙足球甲级联赛'},\n",
       " '埃尔切': {'全名': '埃尔切足球俱乐部Elche Club de Fútbol',\n",
       "  '绰号': 'Franjiverdes, Ilicitanos',\n",
       "  '成立': '1923年，\\u200b99年前\\u200b（1923）[1]',\n",
       "  '主场': '曼努埃尔·马丁内斯·巴莱罗球场',\n",
       "  '容纳人数': '33,732',\n",
       "  '主席': 'Joaquín Buitrago Marhuenda',\n",
       "  '主教练': '弗朗西斯科',\n",
       "  '联赛': '西班牙足球甲级联赛'},\n",
       " '西班牙人': {'全名': 'Real Club Deportivo Espanyol de Barcelona, S.A.D.',\n",
       "  '绰号': '小鹦鹉（Periquitos）',\n",
       "  '成立': '1900年10月28日，\\u200b121年前\\u200b（1900-10-28）as Sociedad Española de Football',\n",
       "  '城市': '巴塞罗那',\n",
       "  '主场': '科尔内拉-埃尔普拉特球场',\n",
       "  '容纳人数': '40,500[1]',\n",
       "  '主席': '陈雁升',\n",
       "  '主教练': '比森特·莫雷诺（英语：Vicente Moreno）',\n",
       "  '联赛': '西班牙足球甲级联赛',\n",
       "  '2020–21': '西乙，第 1 位（升级）',\n",
       "  '球衣供应': 'Hummel'},\n",
       " '马略卡': {'全名': 'Real Club Deportivo Mallorca',\n",
       "  '成立': '1916年',\n",
       "  '城市': '巴利阿里群岛，帕尔马',\n",
       "  '主场': '伊比利亚之星球场（英语：Iberostar Stadium）',\n",
       "  '容纳人数': '23,142人',\n",
       "  '拥有者': 'Robert Sarver',\n",
       "  '主席': 'Andy Kohlberg',\n",
       "  '主教练': '路易斯·加西亚·普拉萨',\n",
       "  '联赛': '西班牙足球甲级联赛',\n",
       "  '2020–21': '西乙，第 2 位（升级）',\n",
       "  '球衣供应': '耐克',\n",
       "  '球衣广告': 'Betfred'},\n",
       " '巴列卡诺': {'全名': 'Rayo Vallecano de Madrid, S.A.D',\n",
       "  '绰号': 'Rayo（闪电）',\n",
       "  '成立': '1924年5月29日',\n",
       "  '城市': '马德里',\n",
       "  '主场': '泰雷萨·里贝罗球场（英语：Estadio Teresa Rivero）',\n",
       "  '容纳人数': '14,708',\n",
       "  '主席': 'Raúl Martín Presa',\n",
       "  '主教练': '安杜尼·伊拉奥拿',\n",
       "  '联赛': '西班牙足球甲级联赛',\n",
       "  '2020–21': '西乙，第 6 位 （通过附加赛升级）'}}"
      ]
     },
     "execution_count": 57,
     "metadata": {},
     "output_type": "execute_result"
    }
   ],
   "source": [
    "## 读取wiki数据\n",
    "f = open('briefData.txt',encoding=\"utf-8\")\n",
    "text_wiki=json.load(f)\n",
    "text_wiki"
   ]
  },
  {
   "cell_type": "code",
   "execution_count": 9,
   "metadata": {
    "pycharm": {
     "name": "#%%\n"
    }
   },
   "outputs": [
    {
     "data": {
      "text/plain": [
       "{'毕尔巴鄂竞技足球俱乐部': {'中文名': '毕尔巴鄂竞技俱乐部',\n",
       "  '外文名': 'AthleticBilbao',\n",
       "  '成立时间': '1898年',\n",
       "  '所属地区': '西班牙毕尔巴鄂',\n",
       "  '运动项目': '足球',\n",
       "  '角逐赛事': '西班牙足球甲级联赛',\n",
       "  '主场馆': '新圣马梅斯球场[2]',\n",
       "  '现任主教练': '爱德华多·贝里索',\n",
       "  '知名人物': '略伦特、哈维·马丁内斯、伊劳拉、安德尔、埃切贝里亚、乌尔塞斯',\n",
       "  '容纳人数': '53,289人',\n",
       "  '主席': 'JosuUrrutia',\n",
       "  '绰号': '红白箭条、巴斯克雄狮'},\n",
       " '马德里竞技足球俱乐部': {'中文名': '马德里竞技足球俱乐部',\n",
       "  '外文名': 'ClubAtléticodeMadridAtléticoMadrid',\n",
       "  '成立时间': '1903年4月26日',\n",
       "  '所属地区': '西班牙马德里',\n",
       "  '运动项目': '足球',\n",
       "  '角逐赛事': '西班牙足球甲级联赛',\n",
       "  '主场馆': '万达大都会球场',\n",
       "  '拥有者': '马德里竞技控股公司[2]',\n",
       "  '现任主教练': '迭戈·西蒙尼',\n",
       "  '知名人物': '西蒙尼、阿拉贡内斯、科斯塔、托雷斯、科克',\n",
       "  '主要荣誉': '西班牙甲级联赛冠军11次西班牙国王杯冠军10次洲际杯冠军1次欧洲冠军联赛亚军3次欧罗巴联赛冠军2次欧洲超级杯冠军3次收起'},\n",
       " '西班牙人足球俱乐部': {'中文名': '皇家西班牙人足球俱乐部',\n",
       "  '外文名': 'RCDEspanyolReialClubDeportiuEspanyol（全名）',\n",
       "  '成立时间': '1900年10月28日',\n",
       "  '所属地区': '西班牙加泰罗尼亚自治区巴塞罗那',\n",
       "  '运动项目': '足球',\n",
       "  '角逐赛事': '西班牙足球甲级联赛[32]',\n",
       "  '主场馆': '科尔内拉-埃尔普拉特球场',\n",
       "  '现任主教练': '比森特·莫雷诺[1]',\n",
       "  '知名人物': '达尼·哈尔克，武磊，萨莫拉，乌尔塞斯，鲁菲特',\n",
       "  '主要荣誉': '西班牙国王杯冠军4个（2005/2006、1999/2000、1940、1929）西班牙足球乙级联赛冠军2个（1993/1994，2020/2021）加泰罗尼亚超级杯冠军1个（2016）2次欧洲足联欧洲联赛亚军',\n",
       "  '球场容纳人数': '42,300[2]'},\n",
       " '奥萨苏纳足球俱乐部': {'中文名': '奥萨苏纳竞技俱乐部',\n",
       "  '外文名': 'CAOsasuna',\n",
       "  '成立时间': '1920年11月17日',\n",
       "  '所属地区': '西班牙纳瓦拉自治区潘普洛纳',\n",
       "  '运动项目': '足球',\n",
       "  '角逐赛事': '西班牙足球甲级联赛',\n",
       "  '主场馆': '埃尔·萨达尔体育场',\n",
       "  '现任主教练': 'JagobaArrasate',\n",
       "  '知名人物': '贝尼特斯，阿吉雷，卡马乔，劳尔·加西亚，胡安弗兰',\n",
       "  '主要荣誉': '2004/05赛季西班牙国王杯亚军2006/07赛季欧洲联盟杯四强',\n",
       "  '容纳人数': '18,375人',\n",
       "  '主席': 'LuisSabalza'},\n",
       " '马洛卡足球俱乐部': {'中文名': '皇家马略卡足球俱乐部',\n",
       "  '外文名': 'RCDMallorca',\n",
       "  '成立时间': '1916年',\n",
       "  '所属地区': '西班牙马略卡',\n",
       "  '运动项目': '足球',\n",
       "  '角逐赛事': '西班牙足球乙级联赛[2]',\n",
       "  '主场馆': '伊比利亚之星球场',\n",
       "  '拥有者': 'RobertSarver',\n",
       "  '现任主教练': '路易斯·加西亚[3]',\n",
       "  '知名人物': '埃托奥，尤利亚诺，路易斯·加西亚',\n",
       "  '主要荣誉': '欧洲杯赛冠军杯亚军（1次）：1998-99西班牙国王杯冠军（1次）：2002-03西班牙足球乙级联赛冠军（2次）：1959-60,1964-65西班牙超级杯冠军（1次）：2002-03',\n",
       "  '容纳人数': '23,142人',\n",
       "  '主席': 'MontiGalmés',\n",
       "  '绰号': 'LosBermellones'},\n",
       " '阿拉维斯足球俱乐部': {'中文名': '阿拉维斯足球俱乐部',\n",
       "  '外文名': 'DeportivoAlavés',\n",
       "  '成立时间': '1921年',\n",
       "  '所属地区': '西班牙北部巴斯克自治区',\n",
       "  '运动项目': '足球',\n",
       "  '角逐赛事': '西班牙足球甲级联赛',\n",
       "  '主场馆': '门迪索罗察球场',\n",
       "  '现任主教练': '哈维尔·卡列哈[5]',\n",
       "  '容纳人数': '19,900人',\n",
       "  '主席': 'AlfonsoFernándezdeTrocóniz'},\n",
       " '巴塞罗那足球俱乐部': {'中文名': '巴塞罗那足球俱乐部',\n",
       "  '外文名': 'FCBarcelona',\n",
       "  '成立时间': '1899年11月29日',\n",
       "  '所属地区': '西班牙巴塞罗那',\n",
       "  '运动项目': '足球',\n",
       "  '角逐赛事': '西班牙足球甲级联赛',\n",
       "  '主场馆': '诺坎普球场',\n",
       "  '现任主教练': '哈维·埃尔南德斯',\n",
       "  '知名人物': '莱奥·梅西、哈维·埃尔南德斯、罗纳尔迪尼奥、约翰·克鲁伊夫、里瓦尔多、佩普·瓜迪奥拉',\n",
       "  '主要荣誉': '欧冠冠军（5次）西甲冠军（26次）[4]国王杯冠军（31次）[2]',\n",
       "  '容纳人数': '98260人',\n",
       "  '主席': '霍安·拉波尔塔',\n",
       "  '现任队长': '塞尔希奥·布斯克茨[5]',\n",
       "  '队歌': 'CantdelBarça',\n",
       "  '昵称': '巴萨（Barça）[115]'},\n",
       " '塞维利亚足球俱乐部': {'中文名': '塞维利亚足球俱乐部',\n",
       "  '外文名': 'SevillaFC',\n",
       "  '成立时间': '1905年10月14日',\n",
       "  '所属地区': '西班牙安达卢西亚塞维利亚',\n",
       "  '运动项目': '足球',\n",
       "  '角逐赛事': '西班牙足球甲级联赛',\n",
       "  '主场馆': '拉蒙·桑切斯·皮斯胡安球场',\n",
       "  '现任主教练': '洛佩特吉',\n",
       "  '主要荣誉': '欧洲联赛冠军6次西班牙足球甲级联赛冠军1次西班牙国王杯冠军5次西班牙超级杯冠军1次欧洲超级杯冠军1次',\n",
       "  '容纳人数': '42500人',\n",
       "  '主席': 'JoséCastroCarmona',\n",
       "  '绰号': 'Sevillistas'},\n",
       " '赫塔菲足球俱乐部': {'中文名': '赫塔费足球俱乐部',\n",
       "  '外文名': 'GetafeClubdeFútbol',\n",
       "  '所属地区': '西班牙赫塔费',\n",
       "  '运动项目': '足球',\n",
       "  '主场馆': '阿方索·佩雷斯球场',\n",
       "  '现任主教练': '基克·弗洛雷斯[3]'},\n",
       " '格拉纳达足球俱乐部': {'中文名': '格拉纳达足球俱乐部',\n",
       "  '外文名': 'GranadaCF',\n",
       "  '成立时间': '1931年',\n",
       "  '所属地区': '西班牙安达鲁西亚自治区格拉纳达省格拉纳达',\n",
       "  '运动项目': '足球',\n",
       "  '角逐赛事': '西班牙足球甲级联赛',\n",
       "  '主场馆': '卡梅内斯球场',\n",
       "  '拥有者': '蒋立章',\n",
       "  '现任主教练': 'DiegoMartinez',\n",
       "  '主要荣誉': '西班牙足球乙级联赛冠军3次西班牙国王杯亚军1次',\n",
       "  '容纳人数': '22369人'},\n",
       " '莱万特足球俱乐部': {'中文名': '莱万特足球俱乐部',\n",
       "  '外文名': 'LevanteUD',\n",
       "  '成立时间': '1909年',\n",
       "  '所属地区': '瓦伦西亚大区',\n",
       "  '运动项目': '足球',\n",
       "  '角逐赛事': '西班牙足球甲级联赛',\n",
       "  '主场馆': '瓦伦西亚城市球场',\n",
       "  '现任主教练': '哈维尔[6]',\n",
       "  '知名人物': '克鲁伊夫，胡安弗兰，巴列斯特罗斯，大卫.纳瓦罗，凯洛尔·纳瓦斯',\n",
       "  '容纳人数': '25,354人',\n",
       "  '现任主席': '基科·卡塔兰',\n",
       "  '昵称': '青蛙',\n",
       "  '场上队长': '胡安弗兰'},\n",
       " '巴列卡诺足球俱乐部': {'中文名': '马德里巴列卡诺闪电足球俱乐部',\n",
       "  '外文名': 'RayoVallecano',\n",
       "  '成立时间': '1924年',\n",
       "  '所属地区': '西班牙马德里',\n",
       "  '运动项目': '足球',\n",
       "  '角逐赛事': '西班牙足球甲级联赛[7]',\n",
       "  '主场馆': '巴列卡斯球场',\n",
       "  '拥有者': '劳尔·马丁·普雷萨',\n",
       "  '现任主教练': '伊劳拉[1]',\n",
       "  '知名人物': '阿尔瓦罗·内格雷多，维克托·奥诺普科，乌戈·桑切斯',\n",
       "  '主要荣誉': '2017/18赛季西班牙足球乙级联赛冠军',\n",
       "  '容纳人数': '14,505人'},\n",
       " '瓦伦西亚足球俱乐部': {'中文名': '瓦伦西亚足球俱乐部',\n",
       "  '外文名': 'ValenciaCF',\n",
       "  '成立时间': '1919年3月18日',\n",
       "  '所属地区': '西班牙瓦伦西亚',\n",
       "  '运动项目': '足球',\n",
       "  '角逐赛事': '西班牙足球甲级联赛',\n",
       "  '主场馆': '梅斯塔利亚球场',\n",
       "  '拥有者': '林荣福',\n",
       "  '现任主教练': '沃罗[6]',\n",
       "  '知名人物': '盖兹卡·门迭塔、大卫·阿尔贝尔达、巴勃罗·艾马尔',\n",
       "  '主要荣誉': '6次获得西班牙足球甲级联赛冠军8次获得西班牙国王杯冠军2次获得欧洲冠军杯亚军',\n",
       "  '容纳人数': '48,600人',\n",
       "  '主席': 'AnilMurthy',\n",
       "  '绰号': '蝙蝠军团'},\n",
       " '维戈塞尔塔足球俱乐部': {'中文名': '皇家比戈塞尔塔足球俱乐部',\n",
       "  '外文名': 'RCCeltadeVigo',\n",
       "  '运动项目': '足球',\n",
       "  '角逐赛事': '西班牙足球甲级联赛',\n",
       "  '所属地区': '西班牙加利西亚比戈',\n",
       "  '成立时间': '1923年3月28日',\n",
       "  '主场馆': '巴莱多斯球场',\n",
       "  '现任教练': '帕科·埃雷拉',\n",
       "  '知名人物': '雨果·马洛、罗伯托·拉戈',\n",
       "  '主要荣誉': '2000年国际托托杯冠军'},\n",
       " '加的斯足球俱乐部': {'中文名': '加的斯足球俱乐部',\n",
       "  '外文名': 'CádizCF',\n",
       "  '成立时间': '1910年',\n",
       "  '所属地区': '西班牙加的斯',\n",
       "  '运动项目': '足球',\n",
       "  '角逐赛事': '西班牙足球甲级联赛[1]',\n",
       "  '主场馆': '拉蒙·德卡兰萨球场',\n",
       "  '现任主教练': 'ÁlvaroCervera',\n",
       "  '容纳人数': '25,033人',\n",
       "  '主席': 'ManuelVizcaíno',\n",
       "  '绰号': 'Submarino,Gaditanos'},\n",
       " '埃尔切足球俱乐部': {'中文名': '埃尔切足球俱乐部',\n",
       "  '外文名': 'ElcheCF',\n",
       "  '所属地区': '西班牙巴伦西亚自治区埃尔切',\n",
       "  '运动项目': '足球',\n",
       "  '角逐赛事': '西班牙足球甲级联赛[1]',\n",
       "  '主场馆': '曼努埃尔·马丁内斯·巴雷罗球场',\n",
       "  '现任主教练': '弗朗西斯科·埃斯克里瓦'},\n",
       " '皇家贝蒂斯足球俱乐部': {'中文名': '皇家贝蒂斯足球俱乐部',\n",
       "  '外文名': 'RealBetis',\n",
       "  '成立时间': '1909年9月17日',\n",
       "  '所属地区': '西班牙安达鲁西亚塞维利亚',\n",
       "  '运动项目': '足球',\n",
       "  '角逐赛事': '西班牙足球甲级联赛',\n",
       "  '主场馆': '洛佩拉球场[3]',\n",
       "  '现任主教练': '佩莱格里尼',\n",
       "  '知名人物': '鲁文·卡斯特罗、华金',\n",
       "  '主要荣誉': '1934/35赛季西甲冠军19772005年国王杯冠军1932年、1942年、1971年、1974年、2015年五次西乙冠军',\n",
       "  '容纳人数': '60721[3]',\n",
       "  '主席': '安赫尔·阿罗',\n",
       "  '绰号': '貝迪斯',\n",
       "  '赞助商': 'KOK体育'},\n",
       " '比利亚雷亚尔足球俱乐部': {'中文名': '比利亚雷亚尔足球俱乐部',\n",
       "  '外文名': 'VillarrealCF',\n",
       "  '成立时间': '1923年3月10日',\n",
       "  '所属地区': '西班牙巴伦西亚自治区卡斯特利翁省比利亚雷亚尔',\n",
       "  '运动项目': '足球',\n",
       "  '角逐赛事': '西班牙足球甲级联赛',\n",
       "  '主场馆': '陶瓷球场',\n",
       "  '拥有者': '费尔南多·罗伊格',\n",
       "  '现任主教练': '乌奈·埃梅里[2]',\n",
       "  '主要荣誉': '欧足联欧洲联赛冠军(2020/21赛季)[9]欧洲冠军联赛四强(2005/06赛季)西班牙足球甲级联赛亚军(2007/08赛季)欧洲足联国际托托杯冠军(2003和2004)',\n",
       "  '容纳人数': '24,500人',\n",
       "  '球队昵称': '黄色潜水艇',\n",
       "  '粤语译音': '维拉利尔'},\n",
       " '皇家马德里足球俱乐部': {'中文名': '皇家马德里足球俱乐部',\n",
       "  '外文名': 'RealMadridCF',\n",
       "  '成立时间': '1902年3月6日',\n",
       "  '所属地区': '西班牙马德里',\n",
       "  '运动项目': '足球',\n",
       "  '角逐赛事': '西班牙足球甲级联赛',\n",
       "  '主场馆': '伯纳乌球场',\n",
       "  '拥有者': '皇马会员',\n",
       "  '现任主教练': '卡尔洛·安切洛蒂[90]',\n",
       "  '知名人物': '伯纳乌、迪斯蒂法诺、普斯卡什、齐达内、劳尔、拉莫斯、C罗',\n",
       "  '主要荣誉': '国际足联二十世纪最佳球会欧洲足球冠军联赛冠军(13次)西班牙足球甲级联赛冠军(34次)[3]西班牙国王杯冠军(19次)西班牙超级杯冠军(12次)世俱杯（含丰田杯）冠军(5次)[5]收起',\n",
       "  '主席': '弗洛伦蒂诺·佩雷斯',\n",
       "  '现任队长': '马塞洛',\n",
       "  '现役知名球员': '本泽马、莫德里奇、克罗斯[7]',\n",
       "  '球迷昵称': '美凌格',\n",
       "  '主场容纳人数': '94497人'},\n",
       " '皇家社会足球俱乐部 ': {'中文名': '皇家社会足球俱乐部',\n",
       "  '外文名': 'RealSociedad',\n",
       "  '成立时间': '1909年9月7日',\n",
       "  '所属地区': '西班牙巴斯克圣塞巴斯提安',\n",
       "  '运动项目': '足球',\n",
       "  '角逐赛事': '西班牙足球甲级联赛',\n",
       "  '主场馆': '阿诺埃塔球场',\n",
       "  '现任主教练': '伊马诺尔·阿尔瓜西尔',\n",
       "  '知名人物': '马克·冈萨雷斯，哈维·阿隆索，威廉·若泽，奥亚萨瓦尔',\n",
       "  '主要荣誉': '1980-1981赛季、1981-1982赛季两次获得西班牙足球甲级联赛冠军1908-1909赛季、1986/1987赛季、2019/2020赛季西班牙国王杯冠军',\n",
       "  '容纳人数': '32,076人',\n",
       "  '主席': '霍金·阿佩里拜',\n",
       "  '绰号': 'txuri-urdin',\n",
       "  '球衣供应': 'Macron'}}"
      ]
     },
     "execution_count": 9,
     "metadata": {},
     "output_type": "execute_result"
    }
   ],
   "source": [
    "## 读取baidu数据\n",
    "f = open('briefData_baidu.txt',encoding=\"utf-8\")\n",
    "text_baidu=json.load(f)\n",
    "text_baidu"
   ]
  },
  {
   "cell_type": "code",
   "execution_count": 96,
   "metadata": {
    "pycharm": {
     "name": "#%%\n"
    }
   },
   "outputs": [
    {
     "name": "stdout",
     "output_type": "stream",
     "text": [
      "missing\n",
      "塞尔塔\n",
      "missing\n",
      "莱万特\n"
     ]
    }
   ],
   "source": [
    "wiki_list = []\n",
    "for i in text_wiki.keys():\n",
    "    try:\n",
    "        temp = re.sub('[\\u4e00-\\u9fa5]', '', text_wiki[i]['全名'])    #去中文\n",
    "        temp = temp.replace(\" \",\"\")     #去空格\n",
    "        temp = temp.split(\",\")[0]   #只保留，前内容\n",
    "        wiki_list.append(temp)\n",
    "        # print(text_wiki[i]['全名'])\n",
    "    except:\n",
    "        print('missing')\n",
    "        print(i)\n",
    "        wiki_list.append('')\n",
    "\n",
    "wiki_list[7] = 'RCCeltadeVigo'\n",
    "wiki_list[13] = 'LevanteUD'\n"
   ]
  },
  {
   "cell_type": "code",
   "execution_count": 27,
   "metadata": {
    "pycharm": {
     "name": "#%%\n"
    }
   },
   "outputs": [
    {
     "data": {
      "text/plain": [
       "['AthleticBilbao',\n",
       " 'ClubAtléticodeMadridAtléticoMadrid',\n",
       " 'RCDEspanyolReialClubDeportiuEspanyol',\n",
       " 'CAOsasuna',\n",
       " 'RCDMallorca',\n",
       " 'DeportivoAlavés',\n",
       " 'FCBarcelona',\n",
       " 'SevillaFC',\n",
       " 'GetafeClubdeFútbol',\n",
       " 'GranadaCF',\n",
       " 'LevanteUD',\n",
       " 'RayoVallecano',\n",
       " 'ValenciaCF',\n",
       " 'RCCeltadeVigo',\n",
       " 'CádizCF',\n",
       " 'ElcheCF',\n",
       " 'RealBetis',\n",
       " 'VillarrealCF',\n",
       " 'RealMadridCF',\n",
       " 'RealSociedad']"
      ]
     },
     "execution_count": 27,
     "metadata": {},
     "output_type": "execute_result"
    }
   ],
   "source": [
    "baidu_list = []\n",
    "for i in text_baidu.keys():\n",
    "    try:\n",
    "        temp = re.sub('[\\u4e00-\\u9fa5]', '', text_baidu[i]['外文名'])    #去中文\n",
    "        temp = temp.split(\"（\")[0]   #只保留（前内容\n",
    "        baidu_list.append(temp)\n",
    "        # print(text_baidu[i]['外文名'])\n",
    "    except:\n",
    "        print('missing')\n",
    "baidu_list"
   ]
  },
  {
   "cell_type": "code",
   "execution_count": 59,
   "metadata": {
    "pycharm": {
     "name": "#%%\n"
    }
   },
   "outputs": [
    {
     "data": {
      "text/plain": [
       "['马德里竞技',\n",
       " '皇家马德里',\n",
       " '巴塞罗那',\n",
       " '塞维利亚',\n",
       " '皇家社会',\n",
       " '贝蒂斯',\n",
       " '比利亚雷亚尔',\n",
       " '塞尔塔',\n",
       " '格拉纳达',\n",
       " '毕尔巴鄂',\n",
       " '奥萨苏纳',\n",
       " '加的斯',\n",
       " '瓦伦西亚',\n",
       " '莱万特',\n",
       " '赫塔菲',\n",
       " '阿拉维斯',\n",
       " '埃尔切',\n",
       " '西班牙人',\n",
       " '马略卡',\n",
       " '巴列卡诺']"
      ]
     },
     "execution_count": 59,
     "metadata": {},
     "output_type": "execute_result"
    }
   ],
   "source": [
    "# wiki中文名\n",
    "wiki_china = []\n",
    "for i in text_wiki.keys():\n",
    "    try:\n",
    "        temp = i\n",
    "        wiki_china.append(temp)\n",
    "    except:\n",
    "        print('missing')\n",
    "wiki_china"
   ]
  },
  {
   "cell_type": "code",
   "execution_count": 55,
   "metadata": {
    "pycharm": {
     "name": "#%%\n"
    }
   },
   "outputs": [
    {
     "data": {
      "text/plain": [
       "['毕尔巴鄂竞技',\n",
       " '马德里竞技',\n",
       " '西班牙人',\n",
       " '奥萨苏纳',\n",
       " '马洛卡',\n",
       " '阿拉维斯',\n",
       " '巴塞罗那',\n",
       " '塞维利亚',\n",
       " '赫塔菲',\n",
       " '格拉纳达',\n",
       " '莱万特',\n",
       " '巴列卡诺',\n",
       " '瓦伦西亚',\n",
       " '维戈塞尔塔',\n",
       " '加的斯',\n",
       " '埃尔切',\n",
       " '皇家贝蒂斯',\n",
       " '比利亚雷亚尔',\n",
       " '皇家马德里',\n",
       " '皇家社会 ']"
      ]
     },
     "execution_count": 55,
     "metadata": {},
     "output_type": "execute_result"
    }
   ],
   "source": [
    "# 百度中文名\n",
    "baidu_china = []\n",
    "for i in text_baidu.keys():\n",
    "    try:\n",
    "        temp = i.replace('足球俱乐部','')\n",
    "        baidu_china.append(temp)\n",
    "    except:\n",
    "        print('missing')\n",
    "baidu_china"
   ]
  },
  {
   "cell_type": "code",
   "execution_count": 97,
   "metadata": {
    "pycharm": {
     "name": "#%%\n"
    }
   },
   "outputs": [
    {
     "data": {
      "text/plain": [
       "[['毕尔巴鄂竞技', 'AthleticBilbao'],\n",
       " ['马德里竞技', 'ClubAtléticodeMadridAtléticoMadrid'],\n",
       " ['西班牙人', 'RCDEspanyolReialClubDeportiuEspanyol'],\n",
       " ['奥萨苏纳', 'CAOsasuna'],\n",
       " ['马洛卡', 'RCDMallorca'],\n",
       " ['阿拉维斯', 'DeportivoAlavés'],\n",
       " ['巴塞罗那', 'FCBarcelona'],\n",
       " ['塞维利亚', 'SevillaFC'],\n",
       " ['赫塔菲', 'GetafeClubdeFútbol'],\n",
       " ['格拉纳达', 'GranadaCF'],\n",
       " ['莱万特', 'LevanteUD'],\n",
       " ['巴列卡诺', 'RayoVallecano'],\n",
       " ['瓦伦西亚', 'ValenciaCF'],\n",
       " ['维戈塞尔塔', 'RCCeltadeVigo'],\n",
       " ['加的斯', 'CádizCF'],\n",
       " ['埃尔切', 'ElcheCF'],\n",
       " ['皇家贝蒂斯', 'RealBetis'],\n",
       " ['比利亚雷亚尔', 'VillarrealCF'],\n",
       " ['皇家马德里', 'RealMadridCF'],\n",
       " ['皇家社会 ', 'RealSociedad']]"
      ]
     },
     "execution_count": 97,
     "metadata": {},
     "output_type": "execute_result"
    }
   ],
   "source": [
    "#中英文名合并\n",
    "wiki_final = []\n",
    "baidu_final = []\n",
    "temp = []\n",
    "for i in range(len(wiki_china)):\n",
    "    temp.append(wiki_china[i])\n",
    "    temp.append(wiki_list[i])\n",
    "    wiki_final.append(temp)\n",
    "    temp = []\n",
    "for i in range(len(baidu_china)):\n",
    "    temp.append(baidu_china[i])\n",
    "    temp.append(baidu_list[i])\n",
    "    baidu_final.append(temp)\n",
    "    temp = []\n",
    "baidu_final\n"
   ]
  },
  {
   "cell_type": "code",
   "execution_count": 111,
   "metadata": {
    "pycharm": {
     "name": "#%%\n"
    }
   },
   "outputs": [
    {
     "data": {
      "text/plain": [
       "[['马德里竞技', 'ClubAtléticodeMadrid'],\n",
       " ['皇家马德里', 'RealMadridClubdeFútbol'],\n",
       " ['巴塞罗那', 'FutbolClubBarcelona'],\n",
       " ['塞维利亚', 'SevillaFútbolClub'],\n",
       " ['皇家社会', 'RealSociedaddeFútbol'],\n",
       " ['贝蒂斯', 'RealBetisBalompié'],\n",
       " ['比利亚雷亚尔', 'Vila-realClubdeFutbol'],\n",
       " ['塞尔塔', 'RCCeltadeVigo'],\n",
       " ['格拉纳达', 'GranadaClubdeFútbol'],\n",
       " ['毕尔巴鄂', 'AthleticClub'],\n",
       " ['奥萨苏纳', 'ClubAtléticoOsasuna'],\n",
       " ['加的斯', 'CádizClubdeFútbol'],\n",
       " ['瓦伦西亚', 'ValènciaClubdeFutbol'],\n",
       " ['莱万特', 'LevanteUD'],\n",
       " ['赫塔菲', 'GetafeClubdeFútbol'],\n",
       " ['阿拉维斯', 'DeportivoAlavés'],\n",
       " ['埃尔切', 'ElcheClubdeFútbol'],\n",
       " ['西班牙人', 'RealClubDeportivoEspanyoldeBarcelona'],\n",
       " ['马略卡', 'RealClubDeportivoMallorca'],\n",
       " ['巴列卡诺', 'RayoVallecanodeMadrid']]"
      ]
     },
     "execution_count": 111,
     "metadata": {},
     "output_type": "execute_result"
    }
   ],
   "source": [
    "wiki_final"
   ]
  },
  {
   "cell_type": "markdown",
   "metadata": {
    "pycharm": {
     "name": "#%% md\n"
    }
   },
   "source": [
    "## Rule-based entity alignment "
   ]
  },
  {
   "cell_type": "code",
   "execution_count": 115,
   "metadata": {
    "pycharm": {
     "name": "#%%\n"
    }
   },
   "outputs": [],
   "source": [
    "#基于规则的实体对齐\n",
    "#Levenshtein distance\n",
    "for i in wiki_china:\n",
    "    for j in baidu_china:\n",
    "        leven_mole = Levenshtein.distance(i,j)\n",
    "        leven_demo = max(len(i),len(j))\n",
    "        data = 1-leven_mole/leven_demo > 0.5\n",
    "        # if(data):\n",
    "            # print(str(data)+'\\n')\n",
    "            # print(i)\n",
    "            # print(j)\n",
    "            # print('\\n')"
   ]
  },
  {
   "cell_type": "code",
   "execution_count": 116,
   "metadata": {
    "pycharm": {
     "name": "#%%\n"
    }
   },
   "outputs": [],
   "source": [
    "#基于规则的实体对齐\n",
    "#Levenshtein distance\n",
    "for i in wiki_list:\n",
    "    for j in baidu_list:\n",
    "        leven_mole = Levenshtein.distance(i,j)\n",
    "        leven_demo = max(len(i),len(j))\n",
    "        data = 1-leven_mole/leven_demo > 0.5\n",
    "        # if(data):\n",
    "        #     # print(str(data)+'\\n')\n",
    "        #     print(i)\n",
    "        #     print(j)\n",
    "        #     print('\\n')"
   ]
  },
  {
   "cell_type": "code",
   "execution_count": 118,
   "metadata": {
    "pycharm": {
     "name": "#%%\n"
    }
   },
   "outputs": [],
   "source": [
    "#jaccard similarity\n",
    "count = 0\n",
    "for i in wiki_list:\n",
    "    for j in baidu_list:\n",
    "        a = list(i)\n",
    "        b = list(j)\n",
    "        a = set(a)\n",
    "        b = set(b)\n",
    "        # calucate jaccard similarity\n",
    "        d1 = float(len(a.intersection(b))) / len(a.union(b)) > 0.6\n",
    "        # if(d1):\n",
    "        #     count += 1\n",
    "        #     print(i)\n",
    "        #     print(j)\n",
    "        #     print('\\n')\n",
    "\n",
    "# count"
   ]
  },
  {
   "cell_type": "code",
   "execution_count": null,
   "metadata": {
    "pycharm": {
     "name": "#%%\n"
    }
   },
   "outputs": [],
   "source": [
    "#基于规则的实体对齐 中英合并\n",
    "#Levenshtein distance\n",
    "for i in wiki_china:\n",
    "    for j in baidu_china:\n",
    "        leven_mole = Levenshtein.distance(i,j)\n",
    "        leven_demo = max(len(i),len(j))\n",
    "        data = 1-leven_mole/leven_demo > 0.5\n",
    "        if(data):\n",
    "            # print(str(data)+'\\n')\n",
    "            print(i)\n",
    "            print(j)\n",
    "            print('\\n')"
   ]
  },
  {
   "cell_type": "code",
   "execution_count": 113,
   "metadata": {
    "pycharm": {
     "name": "#%%\n"
    }
   },
   "outputs": [
    {
     "data": {
      "text/plain": [
       "20"
      ]
     },
     "execution_count": 113,
     "metadata": {},
     "output_type": "execute_result"
    }
   ],
   "source": [
    "#中英混合\n",
    "# Levenshtein distance\n",
    "entity_list=[]\n",
    "temp = []\n",
    "for i in range(len(wiki_final)):\n",
    "    for j in range(len(baidu_final)):\n",
    "            w1 = wiki_final[i][0]   #wiki中文\n",
    "            w2 = wiki_final[i][1]   #wiki英文\n",
    "            b1 = baidu_final[j][0]  #baidu中文\n",
    "            b2 = baidu_final[j][1]  #baidu英文\n",
    "            # calucate Levenshtein similarity\n",
    "            leven_mole1 = Levenshtein.distance(w1,b1)\n",
    "            leven_demo1 = max(len(w1),len(b1))\n",
    "            leven_mole2 = Levenshtein.distance(w2,b2)\n",
    "            leven_demo2 = max(len(w2),len(b2))\n",
    "            similarity1 = 1-leven_mole1/leven_demo1\n",
    "            similarity2 = 1-leven_mole2/leven_demo2\n",
    "\n",
    "            # calucate jaccard similarity\n",
    "            w1a = list(w1)\n",
    "            b1a = list(b1)\n",
    "            w1b = set(w1a)\n",
    "            b1b = set(b1a)\n",
    "            d1 = float(len(w1b.intersection(b1b))) / len(w1b.union(b1b))\n",
    "\n",
    "            w1a = list(w2)\n",
    "            b1a = list(b2)\n",
    "            w1b = set(w1a)\n",
    "            b1b = set(b1a)\n",
    "            d2 = float(len(w1b.intersection(b1b))) / len(w1b.union(b1b))\n",
    "            #判断相似度是否大于阈值\n",
    "            if(similarity1*0.3+similarity2*0.2+d1*0.3+d2*0.2 > 0.55):\n",
    "                temp.append(wiki_final[i][0])\n",
    "                temp.append(baidu_final[j][0])\n",
    "                temp.append(wiki_final[i][1])\n",
    "                temp.append(baidu_final[j][1])\n",
    "                entity_list.append(temp)\n",
    "                temp = []\n",
    "                # print(wiki_final[i][0])\n",
    "                # print(baidu_final[j][0])\n",
    "                # print('\\n')\n",
    "len(entity_list)\n",
    "# entity_list"
   ]
  },
  {
   "cell_type": "code",
   "execution_count": 125,
   "metadata": {
    "pycharm": {
     "name": "#%%\n"
    }
   },
   "outputs": [
    {
     "data": {
      "text/plain": [
       "[['马德里竞技', 'ClubAtléticodeMadrid', 'ClubAtléticodeMadridAtléticoMadrid'],\n",
       " ['皇家马德里', 'RealMadridClubdeFútbol', 'RealMadridCF'],\n",
       " ['巴塞罗那', 'FutbolClubBarcelona', 'FCBarcelona'],\n",
       " ['塞维利亚', 'SevillaFC', 'SevillaFútbolClub'],\n",
       " ['皇家社会 ', '皇家社会', 'RealSociedaddeFútbol', 'RealSociedad'],\n",
       " ['贝蒂斯', '皇家贝蒂斯', 'RealBetisBalompié', 'RealBetis'],\n",
       " ['比利亚雷亚尔', 'Vila-realClubdeFutbol', 'VillarrealCF'],\n",
       " ['塞尔塔', '维戈塞尔塔', 'RCCeltadeVigo'],\n",
       " ['格拉纳达', 'GranadaClubdeFútbol', 'GranadaCF'],\n",
       " ['毕尔巴鄂', '毕尔巴鄂竞技', 'AthleticBilbao', 'AthleticClub'],\n",
       " ['奥萨苏纳', 'ClubAtléticoOsasuna', 'CAOsasuna'],\n",
       " ['加的斯', 'CádizCF', 'CádizClubdeFútbol'],\n",
       " ['瓦伦西亚', 'ValenciaCF', 'ValènciaClubdeFutbol'],\n",
       " ['莱万特', 'LevanteUD'],\n",
       " ['赫塔菲', 'GetafeClubdeFútbol'],\n",
       " ['阿拉维斯', 'DeportivoAlavés'],\n",
       " ['埃尔切', 'ElcheCF', 'ElcheClubdeFútbol'],\n",
       " ['西班牙人',\n",
       "  'RCDEspanyolReialClubDeportiuEspanyol',\n",
       "  'RealClubDeportivoEspanyoldeBarcelona'],\n",
       " ['马洛卡', '马略卡', 'RCDMallorca', 'RealClubDeportivoMallorca'],\n",
       " ['巴列卡诺', 'RayoVallecano', 'RayoVallecanodeMadrid']]"
      ]
     },
     "execution_count": 125,
     "metadata": {},
     "output_type": "execute_result"
    }
   ],
   "source": [
    "# 除掉重复项\n",
    "for i in range(len(entity_list)):\n",
    "    a = set(entity_list[i])\n",
    "    a = list(a)\n",
    "    entity_list[i] = a\n",
    "# 将中文放置在最前面\n",
    "for i in range(len(entity_list)):\n",
    "    for j in range(len(entity_list[i])):\n",
    "        test = re.search('[\\u4e00-\\u9fa5]',entity_list[i][j])\n",
    "        if(test):\n",
    "            temp = entity_list[i][j]\n",
    "            entity_list[i].pop(j)\n",
    "            entity_list[i].insert(0,temp)\n",
    "entity_list"
   ]
  },
  {
   "cell_type": "markdown",
   "metadata": {
    "pycharm": {
     "name": "#%% md\n"
    }
   },
   "source": [
    "## file storage"
   ]
  },
  {
   "cell_type": "code",
   "execution_count": 129,
   "metadata": {
    "pycharm": {
     "name": "#%%\n"
    }
   },
   "outputs": [
    {
     "name": "stdout",
     "output_type": "stream",
     "text": [
      "[['马德里竞技', 'ClubAtléticodeMadrid', 'ClubAtléticodeMadridAtléticoMadrid'], ['皇家马德里', 'RealMadridClubdeFútbol', 'RealMadridCF'], ['巴塞罗那', 'FutbolClubBarcelona', 'FCBarcelona'], ['塞维利亚', 'SevillaFC', 'SevillaFútbolClub'], ['皇家社会 ', '皇家社会', 'RealSociedaddeFútbol', 'RealSociedad'], ['贝蒂斯', '皇家贝蒂斯', 'RealBetisBalompié', 'RealBetis'], ['比利亚雷亚尔', 'Vila-realClubdeFutbol', 'VillarrealCF'], ['塞尔塔', '维戈塞尔塔', 'RCCeltadeVigo'], ['格拉纳达', 'GranadaClubdeFútbol', 'GranadaCF'], ['毕尔巴鄂', '毕尔巴鄂竞技', 'AthleticBilbao', 'AthleticClub'], ['奥萨苏纳', 'ClubAtléticoOsasuna', 'CAOsasuna'], ['加的斯', 'CádizCF', 'CádizClubdeFútbol'], ['瓦伦西亚', 'ValenciaCF', 'ValènciaClubdeFutbol'], ['莱万特', 'LevanteUD'], ['赫塔菲', 'GetafeClubdeFútbol'], ['阿拉维斯', 'DeportivoAlavés'], ['埃尔切', 'ElcheCF', 'ElcheClubdeFútbol'], ['西班牙人', 'RCDEspanyolReialClubDeportiuEspanyol', 'RealClubDeportivoEspanyoldeBarcelona'], ['马洛卡', '马略卡', 'RCDMallorca', 'RealClubDeportivoMallorca'], ['巴列卡诺', 'RayoVallecano', 'RayoVallecanodeMadrid']]\n"
     ]
    }
   ],
   "source": [
    "np.save('alignment.npy', entity_list)  # 保存文件\n",
    "\n",
    "mid = np.load('alignment.npy', allow_pickle=True)  # 读取文件\n",
    "entity_list_data = []\n",
    "for item in mid:  # 将ndarray转换为原字典类型\n",
    "    entity_list_data.append(list(item))\n",
    "print(entity_list_data)"
   ]
  }
 ],
 "metadata": {
  "kernelspec": {
   "display_name": "Python 3 (ipykernel)",
   "language": "python",
   "name": "python3"
  },
  "language_info": {
   "codemirror_mode": {
    "name": "ipython",
    "version": 3
   },
   "file_extension": ".py",
   "mimetype": "text/x-python",
   "name": "python",
   "nbconvert_exporter": "python",
   "pygments_lexer": "ipython3",
   "version": "3.7.0"
  }
 },
 "nbformat": 4,
 "nbformat_minor": 1
}
