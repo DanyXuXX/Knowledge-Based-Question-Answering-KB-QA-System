{
 "cells": [
  {
   "cell_type": "code",
   "execution_count": 4,
   "metadata": {},
   "outputs": [
    {
     "name": "stderr",
     "output_type": "stream",
     "text": [
      "C:\\Anaconda3\\lib\\site-packages\\socks.py:58: DeprecationWarning: Using or importing the ABCs from 'collections' instead of from 'collections.abc' is deprecated, and in 3.8 it will stop working\n",
      "  from collections import Callable\n"
     ]
    }
   ],
   "source": [
    "from LAC import LAC"
   ]
  },
  {
   "cell_type": "code",
   "execution_count": 5,
   "metadata": {
    "pycharm": {
     "name": "#%%\n"
    }
   },
   "outputs": [],
   "source": [
    "lac = LAC(mode = 'rank')"
   ]
  },
  {
   "cell_type": "code",
   "execution_count": 5,
   "metadata": {
    "pycharm": {
     "name": "#%%\n"
    }
   },
   "outputs": [
    {
     "data": {
      "text/plain": [
       "[['西甲', '的', '第一名', '是', '谁'], ['nz', 'u', 'm', 'v', 'r'], [3, 0, 2, 0, 1]]"
      ]
     },
     "execution_count": 5,
     "metadata": {},
     "output_type": "execute_result"
    }
   ],
   "source": [
    "text = u'西甲的第一名是谁' # Who is No. 1 in La Liga?\n",
    "lac_result = lac.run(text)\n",
    "lac_result"
   ]
  },
  {
   "cell_type": "code",
   "execution_count": 6,
   "metadata": {
    "pycharm": {
     "name": "#%%\n"
    }
   },
   "outputs": [
    {
     "data": {
      "text/plain": [
       "[[['马德里竞技俱乐部', '在', '西甲', '里面', '排名', '多少'],\n",
       "  ['ORG', 'p', 'nz', 'f', 'v', 'r'],\n",
       "  [3, 0, 3, 1, 2, 1]],\n",
       " [['皇家贝蒂斯足球俱乐部', '的', '排名', '和', '皇家马德里俱乐部', '的', '排名', '那个', '比较好'],\n",
       "  ['ORG', 'u', 'vn', 'c', 'ORG', 'u', 'vn', 'r', 'a'],\n",
       "  [2, 0, 2, 0, 3, 0, 2, 1, 2]]]"
      ]
     },
     "execution_count": 6,
     "metadata": {},
     "output_type": "execute_result"
    }
   ],
   "source": [
    "texts = [u'马德里竞技俱乐部在西甲里面排名多少', '皇家贝蒂斯足球俱乐部的排名和皇家马德里俱乐部的排名那个比较好']\n",
    "# 'How much does Atlético Madrid rank in La Liga', 'Which is better, the ranking of Real Betis Football Club or the ranking of Real Madrid Club'\n",
    "lac_results = lac.run(texts)\n",
    "lac_results"
   ]
  },
  {
   "cell_type": "code",
   "execution_count": 7,
   "metadata": {
    "pycharm": {
     "name": "#%%\n"
    }
   },
   "outputs": [
    {
     "data": {
      "text/plain": [
       "[['塞维利亚俱乐部', '的', '出生', '年月', '是', '什么时候', '？'],\n",
       " ['ORG', 'u', 'vn', 'n', 'v', 'n', 'w'],\n",
       " [3, 0, 2, 2, 0, 2, 0]]"
      ]
     },
     "execution_count": 7,
     "metadata": {},
     "output_type": "execute_result"
    }
   ],
   "source": [
    "text = '塞维利亚俱乐部的出生年月是什么时候？' # When was Sevilla FC born?\n",
    "lac_result = lac.run(text)\n",
    "lac_result"
   ]
  },
  {
   "cell_type": "code",
   "execution_count": 6,
   "metadata": {
    "pycharm": {
     "name": "#%%\n"
    }
   },
   "outputs": [
    {
     "name": "stdout",
     "output_type": "stream",
     "text": [
      "[jieba] default dict file path ..\\data\\vocab.txt\n",
      "[jieba] default dict file path ..\\data\\vocab.txt\n",
      "[jieba] load default dict ..\\data\\vocab.txt ...\n",
      "[jieba] load default dict ..\\data\\vocab.txt ...\n",
      ">> Synonyms load wordseg dict [C:\\Anaconda3\\lib\\site-packages\\synonyms\\data\\vocab.txt] ... \n",
      ">> Synonyms on loading stopwords [C:\\Anaconda3\\lib\\site-packages\\synonyms\\data\\stopwords.txt] ...\n",
      "[Synonyms] on loading vectors [C:\\Anaconda3\\lib\\site-packages\\synonyms\\data\\words.vector.gz] ...\n"
     ]
    },
    {
     "name": "stderr",
     "output_type": "stream",
     "text": [
      "C:\\Anaconda3\\lib\\site-packages\\smart_open\\smart_open_lib.py:494: DeprecationWarning: This function is deprecated.  See https://github.com/RaRe-Technologies/smart_open/blob/develop/MIGRATING_FROM_OLDER_VERSIONS.rst for more information\n",
      "  warnings.warn(message, category=DeprecationWarning)\n",
      "C:\\Anaconda3\\lib\\site-packages\\synonyms\\word2vec.py:175: DeprecationWarning: The binary mode of fromstring is deprecated, as it behaves surprisingly on unicode inputs. Use frombuffer instead\n",
      "  weights = fromstring(fin.read(binary_len), dtype=REAL)\n"
     ]
    },
    {
     "name": "stdout",
     "output_type": "stream",
     "text": [
      "0.197\n"
     ]
    }
   ],
   "source": [
    "import synonyms\n",
    "# print('国籍: ', synonyms.nearby(\"国籍\")) # nationality\n",
    "print(synonyms.compare('简称','绰号')) # 'abbreviation', 'nickname'"
   ]
  },
  {
   "cell_type": "code",
   "execution_count": 7,
   "metadata": {
    "pycharm": {
     "name": "#%%\n"
    }
   },
   "outputs": [],
   "source": [
    "def get_closest_prop(n):\n",
    "    n_list = [\n",
    "        '主要荣誉',\n",
    "        '位于',\n",
    "        '国籍',\n",
    "        '容纳',\n",
    "        '成立时间',\n",
    "        '球衣号码',\n",
    "        '球迷昵称',\n",
    "        '生日',\n",
    "        '简称',\n",
    "        '绰号',\n",
    "        '职位'\n",
    "    ]\n",
    "    n_sim = []\n",
    "    for i in n_list:\n",
    "        n_sim.append(synonyms.compare(n, i))\n",
    "    # print(n_sim)\n",
    "    max_value = max(n_sim)\n",
    "    idx = n_sim.index(max_value)\n",
    "    return n_list[idx], max_value"
   ]
  },
  {
   "cell_type": "code",
   "execution_count": 8,
   "metadata": {
    "pycharm": {
     "name": "#%%\n"
    }
   },
   "outputs": [
    {
     "data": {
      "text/plain": [
       "('绰号', 0.893)"
      ]
     },
     "execution_count": 8,
     "metadata": {},
     "output_type": "execute_result"
    }
   ],
   "source": [
    "get_closest_prop('名字')"
   ]
  },
  {
   "cell_type": "code",
   "execution_count": 45,
   "metadata": {
    "pycharm": {
     "name": "#%%\n"
    }
   },
   "outputs": [],
   "source": [
    "def get_entity_info(sentence):\n",
    "    lac_res = lac.run(sentence)\n",
    "    # print(lac_res)\n",
    "    max_sim = -1\n",
    "    max_n = ''\n",
    "    # print(list(enumerate(lac_res[2])))\n",
    "    for index, i in enumerate(lac_res[2]):\n",
    "        if i > 0:\n",
    "            # print(index)\n",
    "            tmp_n, tmp_sim = get_closest_prop(lac_res[0][index])\n",
    "            if tmp_sim > max_sim:\n",
    "                max_sim = tmp_sim\n",
    "                max_n = tmp_n\n",
    "    entity = ''\n",
    "    for index, i in enumerate(lac_res[1]):\n",
    "        if i == 'PER' or i == 'LOC' or i == 'ORG':\n",
    "            entity = lac_res[0][index]\n",
    "    # print(entity, max_n)\n",
    "    SPARQL_SEN = 'MATCH (a:`ns0__足球俱乐部`{uri:\"http://www.semanticweb.org/think/ontologies/Football.owl#' + entity + '\"})\\nRETURN a.ns0__' + max_n\n",
    "    print(SPARQL_SEN)\n",
    "    return SPARQL_SEN"
   ]
  },
  {
   "cell_type": "code",
   "execution_count": 46,
   "metadata": {
    "pycharm": {
     "name": "#%%\n"
    }
   },
   "outputs": [
    {
     "name": "stdout",
     "output_type": "stream",
     "text": [
      "MATCH (a:`ns0__足球俱乐部`{uri:\"http://www.semanticweb.org/think/ontologies/Football.owl#皇家马略卡足球俱乐部\"})\n",
      "RETURN a.ns0__绰号\n",
      "MATCH (a:`ns0__足球俱乐部`{uri:\"http://www.semanticweb.org/think/ontologies/Football.owl#皇家马略卡足球俱乐部\"})\n",
      "RETURN a.ns0__绰号\n"
     ]
    }
   ],
   "source": [
    "\n",
    "q1=get_entity_info('皇家马略卡足球俱乐部的昵称是什么')\n",
    "print(q1)"
   ]
  },
  {
   "cell_type": "code",
   "execution_count": 12,
   "metadata": {
    "pycharm": {
     "name": "#%%\n"
    }
   },
   "outputs": [],
   "source": [
    "def get_closest_relation(r):\n",
    "    r_list = [\"主要竞争对手\", \"就任主席\", \"所属球队\", \"执教\", \"球队主场\", \"赞助商\", \"队长\"]\n",
    "    r_sim = []\n",
    "    for i in r_list:\n",
    "        r_sim.append(synonyms.compare(r, i))\n",
    "    # print(r_sim)\n",
    "    max_value = max(r_sim)\n",
    "    idx = r_sim.index(max_value)\n",
    "    return r_list[idx], max_value"
   ]
  },
  {
   "cell_type": "code",
   "execution_count": 36,
   "metadata": {
    "pycharm": {
     "name": "#%%\n"
    }
   },
   "outputs": [],
   "source": [
    "def get_entity_relation(sentence):\n",
    "    lac_res = lac.run(sentence)\n",
    "    # print(lac_res)\n",
    "    max_sim = -1\n",
    "    max_r = ''\n",
    "    # print(list(enumerate(lac_res[2])))\n",
    "    for index, i in enumerate(lac_res[2]):\n",
    "        if i > 0:\n",
    "            # print(index)\n",
    "            tmp_n, tmp_sim = get_closest_relation(lac_res[0][index])\n",
    "            if tmp_sim > max_sim:\n",
    "                max_sim = tmp_sim\n",
    "                max_r = tmp_n\n",
    "    entity = ''\n",
    "    for index, i in enumerate(lac_res[1]):\n",
    "        if i == 'PER' or i == 'LOC' or i == 'ORG':\n",
    "            entity = lac_res[0][index]\n",
    "    # print(entity, max_r)\n",
    "    SPARQL_SEN ='MATCH (a:`ns0__主教练`{uri:\"http://www.semanticweb.org/think/ontologies/Football.owl#' + entity + '\"}) - [:`ns0__'+ max_r +'`]->(b) \\nRETURN b'\n",
    "    print(SPARQL_SEN)\n",
    "    return SPARQL_SEN"
   ]
  },
  {
   "cell_type": "code",
   "execution_count": 37,
   "metadata": {
    "pycharm": {
     "name": "#%%\n"
    }
   },
   "outputs": [
    {
     "name": "stdout",
     "output_type": "stream",
     "text": [
      "MATCH (a:`ns0__主教练`{uri:\"http://www.semanticweb.org/think/ontologies/Football.owl#卡尔洛·安切洛蒂\"}) - [:`ns0__执教`]->(b) \n",
      "RETURN b\n",
      "MATCH (a:`ns0__主教练`{uri:\"http://www.semanticweb.org/think/ontologies/Football.owl#卡尔洛·安切洛蒂\"}) - [:`ns0__执教`]->(b) \n",
      "RETURN b\n"
     ]
    }
   ],
   "source": [
    "q2=get_entity_relation('卡尔洛·安切洛蒂在哪个球队执教')\n",
    "print(q2)"
   ]
  },
  {
   "cell_type": "code",
   "execution_count": 38,
   "metadata": {
    "pycharm": {
     "name": "#%%\n"
    }
   },
   "outputs": [],
   "source": [
    "def get_entity_relation_value(sentence):\n",
    "    lac_res = lac.run(sentence)\n",
    "    # print(lac_res)\n",
    "    max_sim = -1\n",
    "    max_r = ''\n",
    "    # print(list(enumerate(lac_res[2])))\n",
    "    for index, i in enumerate(lac_res[2]):\n",
    "        if i > 0:\n",
    "            # print(index)\n",
    "            tmp_n, tmp_sim = get_closest_relation(lac_res[0][index])\n",
    "            if tmp_sim > max_sim:\n",
    "                max_sim = tmp_sim\n",
    "                max_r = tmp_n\n",
    "    entity = ''\n",
    "    for index, i in enumerate(lac_res[1]):\n",
    "        if i == 'PER' or i == 'LOC' or i == 'ORG':\n",
    "            entity = lac_res[0][index]\n",
    "    # print(entity, max_r)\n",
    "    SPARQL_SEN = 'MATCH (a:entity{name:\"' + entity + '\"}) - [r:'+ max_r +']->(b) \\nRETURN r'\n",
    "    print(SPARQL_SEN)\n",
    "    return SPARQL_SEN"
   ]
  },
  {
   "cell_type": "code",
   "execution_count": 39,
   "metadata": {
    "pycharm": {
     "name": "#%%\n"
    }
   },
   "outputs": [
    {
     "name": "stdout",
     "output_type": "stream",
     "text": [
      "MATCH (a:entity{name:\"皇家马德里俱乐部\"}) - [r:主要竞争对手]->(b) \n",
      "RETURN r\n"
     ]
    },
    {
     "data": {
      "text/plain": [
       "'MATCH (a:entity{name:\"皇家马德里俱乐部\"}) - [r:主要竞争对手]->(b) \\nRETURN r'"
      ]
     },
     "execution_count": 39,
     "metadata": {},
     "output_type": "execute_result"
    }
   ],
   "source": [
    "get_entity_relation_value('皇家马德里俱乐部的所有球员有哪些')\n"
   ]
  },
  {
   "cell_type": "code",
   "execution_count": 26,
   "metadata": {
    "pycharm": {
     "name": "#%%\n"
    }
   },
   "outputs": [],
   "source": [
    "def get_entitys_better(sentence):\n",
    "    lac_res = lac.run(sentence)\n",
    "    # print(lac_res)\n",
    "    max_sim = -1\n",
    "    max_r = ''\n",
    "    # print(list(enumerate(lac_res[2])))\n",
    "    for index, i in enumerate(lac_res[2]):\n",
    "        if i > 0:\n",
    "            # print(index)\n",
    "            tmp_n, tmp_sim = get_closest_relation(lac_res[0][index])\n",
    "            if tmp_sim > max_sim:\n",
    "                max_sim = tmp_sim\n",
    "                max_r = tmp_n\n",
    "    entity_list = []\n",
    "    for index, i in enumerate(lac_res[1]):\n",
    "        if i == 'PER' or i == 'LOC' or i == 'ORG':\n",
    "            entity_list.append(lac_res[0][index])\n",
    "    # print(entity_list, max_r)\n",
    "    SPARQL_SEN = 'MATCH (a:entity1{name:\"' + entity_list[0] + '\"}),(b:entity2{name:\"' + entity_list[1] + '\"}) \\nWHERE a.property>b.property\\nRETURN a,b'\n",
    "    # print(SPARQL_SEN)\n",
    "    return SPARQL_SEN"
   ]
  },
  {
   "cell_type": "code",
   "execution_count": 27,
   "metadata": {
    "pycharm": {
     "name": "#%%\n"
    }
   },
   "outputs": [
    {
     "data": {
      "text/plain": [
       "'MATCH (a:entity1{name:\"皇家马德里俱乐部\"}),(b:entity2{name:\"塞尔维亚俱乐部\"}) \\nWHERE a.property>b.property\\nRETURN a,b'"
      ]
     },
     "execution_count": 27,
     "metadata": {},
     "output_type": "execute_result"
    }
   ],
   "source": [
    "get_entitys_better('皇家马德里俱乐部赛季排名是否比塞尔维亚俱乐部好？')"
   ]
  },
  {
   "cell_type": "code",
   "execution_count": 40,
   "metadata": {
    "pycharm": {
     "name": "#%%\n"
    }
   },
   "outputs": [],
   "source": [
    "def get_relation_between(sentence):\n",
    "    lac_res = lac.run(sentence)\n",
    "    # print(lac_res)\n",
    "    max_sim = -1\n",
    "    max_r = ''\n",
    "    # print(list(enumerate(lac_res[2])))\n",
    "    for index, i in enumerate(lac_res[2]):\n",
    "        if i > 0:\n",
    "            # print(index)\n",
    "            tmp_n, tmp_sim = get_closest_relation(lac_res[0][index])\n",
    "            if tmp_sim > max_sim:\n",
    "                max_sim = tmp_sim\n",
    "                max_r = tmp_n\n",
    "    entity_list = []\n",
    "    for index, i in enumerate(lac_res[1]):\n",
    "        if i == 'PER' or i == 'LOC' or i == 'ORG':\n",
    "            entity_list.append(lac_res[0][index])\n",
    "    # print(entity_list, max_r)\n",
    "    SPARQL_SEN = 'MATCH (a:`ns0__足球俱乐部`{uri:\"http://www.semanticweb.org/think/ontologies/Football.owl#' + entity_list[0] + '\"})-[r] -(b:`ns0__足球俱乐部`{uri:\"http://www.semanticweb.org/think/ontologies/Football.owl#' + entity_list[1] + '\"})\\nRETURN r'\n",
    "    print(SPARQL_SEN)\n",
    "    return SPARQL_SEN"
   ]
  },
  {
   "cell_type": "code",
   "execution_count": 41,
   "metadata": {
    "pycharm": {
     "name": "#%%\n"
    }
   },
   "outputs": [
    {
     "name": "stdout",
     "output_type": "stream",
     "text": [
      "MATCH (a:`ns0__足球俱乐部`{uri:\"http://www.semanticweb.org/think/ontologies/Football.owl#皇家贝蒂斯足球俱乐部\"})-[r] -(b:`ns0__足球俱乐部`{uri:\"http://www.semanticweb.org/think/ontologies/Football.owl#塞维利亚足球俱乐部\"})\n",
      "RETURN r\n",
      "MATCH (a:`ns0__足球俱乐部`{uri:\"http://www.semanticweb.org/think/ontologies/Football.owl#皇家贝蒂斯足球俱乐部\"})-[r] -(b:`ns0__足球俱乐部`{uri:\"http://www.semanticweb.org/think/ontologies/Football.owl#塞维利亚足球俱乐部\"})\n",
      "RETURN r\n"
     ]
    }
   ],
   "source": [
    "q3=get_relation_between('皇家贝蒂斯足球俱乐部和塞维利亚足球俱乐部是什么关系？')\n",
    "print(q3)"
   ]
  },
  {
   "cell_type": "code",
   "execution_count": 30,
   "metadata": {
    "pycharm": {
     "name": "#%%\n"
    }
   },
   "outputs": [],
   "source": [
    "def get_better_entities(sentence):\n",
    "    lac_res = lac.run(sentence)\n",
    "    # print(lac_res)\n",
    "    max_sim = -1\n",
    "    max_r = ''\n",
    "    # print(list(enumerate(lac_res[2])))\n",
    "    for index, i in enumerate(lac_res[2]):\n",
    "        if i > 0:\n",
    "            # print(index)\n",
    "            tmp_n, tmp_sim = get_closest_relation(lac_res[0][index])\n",
    "            if tmp_sim > max_sim:\n",
    "                max_sim = tmp_sim\n",
    "                max_r = tmp_n\n",
    "    entity_list = []\n",
    "    for index, i in enumerate(lac_res[1]):\n",
    "        if i == 'PER' or i == 'LOC' or i == 'ORG':\n",
    "            entity_list.append(lac_res[0][index])\n",
    "    # print(entity_list, max_r)\n",
    "    SPARQL_SEN = 'MATCH (a:entity1{name:\"' + entity_list[0] + '\"}),(b:entity2})\\nWHERE a.'+ max_r +' < b.'+ max_r +'\\nRETURN b'\n",
    "    print(SPARQL_SEN)\n",
    "    return SPARQL_SEN"
   ]
  },
  {
   "cell_type": "code",
   "execution_count": 31,
   "metadata": {
    "pycharm": {
     "name": "#%%\n"
    }
   },
   "outputs": [
    {
     "name": "stdout",
     "output_type": "stream",
     "text": [
      "MATCH (a:entity1{name:\"皇家马德里俱乐部\"}),(b:entity2})\n",
      "WHERE a.执教 < b.执教\n",
      "RETURN b\n"
     ]
    },
    {
     "data": {
      "text/plain": [
       "'MATCH (a:entity1{name:\"皇家马德里俱乐部\"}),(b:entity2})\\nWHERE a.执教 < b.执教\\nRETURN b'"
      ]
     },
     "execution_count": 31,
     "metadata": {},
     "output_type": "execute_result"
    }
   ],
   "source": [
    "get_better_entities('有哪些比皇家马德里俱乐部赛季排名好的球队？')"
   ]
  },
  {
   "cell_type": "code",
   "execution_count": 42,
   "metadata": {
    "pycharm": {
     "name": "#%%\n"
    }
   },
   "outputs": [],
   "source": [
    "# interface\n",
    "lac = LAC(mode='rank')\n",
    "aim_list = ['主要荣誉','位于','国籍','容纳','成立时间','球衣号码','球迷昵称','生日','简称','绰号','职位',\"主要竞争对手\", \"就任主席\", \"所属球队\", \"执教\", \"球队主场\", \"赞助商\", \"队长\"]\n",
    "l_list = ['主要荣誉','位于','国籍','容纳','成立时间','球衣号码','球迷昵称','生日','简称','绰号','职位']\n",
    "r_list = [\"主要竞争对手\", \"就任主席\", \"所属球队\", \"执教\", \"球队主场\", \"赞助商\", \"队长\"]\n",
    "def question_part(s,aim_list):\n",
    "    key_index = [] #重要词汇下标\n",
    "    simi_list = [] #对比aim_list形似度表\n",
    "    lac_result = lac.run(s)\n",
    "    max_index = 0\n",
    "    temp_list = []\n",
    "    for i in lac_result[2]:\n",
    "        if(i!=0):\n",
    "            key_index.append(i)\n",
    "    for i in range(len(aim_list)):\n",
    "        for j in range(len(key_index)):\n",
    "            temp_list.append(synonyms.compare(aim_list[i],lac_result[0][j]))\n",
    "            simi_list.append(temp_list)\n",
    "            temp_list = []\n",
    "   #定位最相似下标\n",
    "            temp = simi_list[0][0]\n",
    "    for i in range(len(simi_list)):\n",
    "        for j in range(len(simi_list[i])):\n",
    "            if(simi_list[i][j]>temp):\n",
    "                temp = simi_list[i][j]\n",
    "                max_index = i\n",
    "   # print(lac_result)\n",
    "   # print(simi_list)\n",
    "    return aim_list[max_index]\n",
    "\n",
    "def which_template(q_part,sentence):\n",
    "    temp = 0\n",
    "    lac_res = lac.run(sentence)\n",
    "    # print(lac_res)\n",
    "    entity_list = []\n",
    "    for index, i in enumerate(lac_res[1]):\n",
    "        if i == 'PER' or i == 'LOC' or i == 'ORG':\n",
    "            entity_list.append(lac_res[0][index])\n",
    "    if(len(entity_list)>1):\n",
    "        get_relation_between(sentence)#q3\n",
    "    else:\n",
    "        for i in range(len(l_list)):\n",
    "            if(q_part == l_list[i]):\n",
    "                get_entity_info(sentence)#q1\n",
    "                temp = 1\n",
    "        if(temp == 0):\n",
    "            get_entity_relation(sentence)#q2"
   ]
  },
  {
   "cell_type": "markdown",
   "metadata": {
    "pycharm": {
     "name": "#%% md\n"
    }
   },
   "source": [
    "## test"
   ]
  },
  {
   "cell_type": "code",
   "execution_count": 47,
   "metadata": {
    "pycharm": {
     "name": "#%%\n"
    }
   },
   "outputs": [
    {
     "name": "stdout",
     "output_type": "stream",
     "text": [
      "MATCH (a:`ns0__足球俱乐部`{uri:\"http://www.semanticweb.org/think/ontologies/Football.owl#皇家马略卡足球俱乐部\"})\n",
      "RETURN a.ns0__绰号\n",
      "MATCH (a:`ns0__主教练`{uri:\"http://www.semanticweb.org/think/ontologies/Football.owl#卡尔洛·安切洛蒂\"}) - [:`ns0__执教`]->(b) \n",
      "RETURN b\n",
      "MATCH (a:`ns0__足球俱乐部`{uri:\"http://www.semanticweb.org/think/ontologies/Football.owl#皇家贝蒂斯足球俱乐部\"})-[r] -(b:`ns0__足球俱乐部`{uri:\"http://www.semanticweb.org/think/ontologies/Football.owl#塞维利亚足球俱乐部\"})\n",
      "RETURN r\n"
     ]
    }
   ],
   "source": [
    "#aim_list已固定，只需修改输入的sentence\n",
    "sentence1 = '皇家马略卡足球俱乐部的昵称是什么'\n",
    "sentence2 = '卡尔洛·安切洛蒂在哪个球队执教'\n",
    "sentence3 = '皇家贝蒂斯足球俱乐部和塞维利亚足球俱乐部是什么关系？'\n",
    "q_part = question_part(sentence1,aim_list)\n",
    "which_template(q_part,sentence1)\n",
    "q_part = question_part(sentence2,aim_list)\n",
    "which_template(q_part,sentence2)\n",
    "q_part = question_part(sentence3,aim_list)\n",
    "which_template(q_part,sentence3)"
   ]
  },
  {
   "cell_type": "code",
   "execution_count": 48,
   "metadata": {},
   "outputs": [],
   "source": [
    "import json\n",
    "from py2neo import Graph,Node,Relationship,NodeMatcher,Subgraph\n",
    "\n",
    "graph = Graph('http://localhost:7474', auth=(\"neo4j\", \"Lyc111lyc\"))\n"
   ]
  },
  {
   "cell_type": "code",
   "execution_count": null,
   "metadata": {},
   "outputs": [],
   "source": [
    "matcher = NodeMatcher(graph)"
   ]
  },
  {
   "cell_type": "code",
   "execution_count": 54,
   "metadata": {},
   "outputs": [
    {
     "name": "stdout",
     "output_type": "stream",
     "text": [
      "\"LosBermellones\"\n"
     ]
    }
   ],
   "source": [
    "graph.run(q1)"
   ]
  },
  {
   "cell_type": "code",
   "execution_count": 57,
   "metadata": {},
   "outputs": [
    {
     "name": "stdout",
     "output_type": "stream",
     "text": [
      "{\"identity\": 1083,\"labels\": [\"Resource\",\"ns0__足球俱乐部\", \"owl__NamedIndividual\"],\"properties\": {\"ns0__简称\": \"皇马\",\"ns0__主要荣誉\": \"西班牙足球甲级联赛冠军(34次)\",\"ns0__位于\": \"西班牙首都马德里\",\"ns0__成立时间\": \"1902年\",\"ns0__球迷昵称\": \"美凌格\",\"uri\": \"http://www.semanticweb.org/think/ontologies/Football.owl#皇家马德里足球俱乐部\"}}\n"
     ]
    }
   ],
   "source": [
    "graph.run(q2)"
   ]
  },
  {
   "cell_type": "code",
   "execution_count": 62,
   "metadata": {},
   "outputs": [
    {
     "name": "stdout",
     "output_type": "stream",
     "text": [
      "{\"identity\": 1039,\"start\": 1278,\"end\": 1164, \"type\": \"ns0__主要竞争对手\",\"properties\": {}}\n",
      "{\"identity\": 912,\"start\": 1164,\"end\": 1278, \"type\": \"ns0__主要竞争对手\",\"properties\": {}}\n"
     ]
    }
   ],
   "source": [
    "graph.run(q3)"
   ]
  },
  {
   "cell_type": "code",
   "execution_count": 3,
   "metadata": {},
   "outputs": [],
   "source": [
    "\n",
    "#matcher = NodeMatcher(graph)\n",
    "#matcher.match().first()"
   ]
  },
  {
   "cell_type": "code",
   "execution_count": 2,
   "metadata": {},
   "outputs": [],
   "source": [
    "#result=graph.run(\"MATCH (n) RETURN n\").data()#读取neo4j数据库中的所有数据\n",
    "#record=result[0] #读取表中的第一个数据\n",
    "#record.get('n').get('uri') #假设数据库中有一个属性（或者说是列名字）是name\n"
   ]
  },
  {
   "cell_type": "code",
   "execution_count": 1,
   "metadata": {
    "scrolled": false
   },
   "outputs": [],
   "source": [
    "#graph.run(q1)#.data()"
   ]
  },
  {
   "cell_type": "code",
   "execution_count": null,
   "metadata": {},
   "outputs": [],
   "source": []
  }
 ],
 "metadata": {
  "kernelspec": {
   "display_name": "Python 3 (ipykernel)",
   "language": "python",
   "name": "python3"
  },
  "language_info": {
   "codemirror_mode": {
    "name": "ipython",
    "version": 3
   },
   "file_extension": ".py",
   "mimetype": "text/x-python",
   "name": "python",
   "nbconvert_exporter": "python",
   "pygments_lexer": "ipython3",
   "version": "3.7.0"
  }
 },
 "nbformat": 4,
 "nbformat_minor": 1
}
